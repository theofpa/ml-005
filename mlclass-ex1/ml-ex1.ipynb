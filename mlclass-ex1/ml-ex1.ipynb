{
 "metadata": {
  "name": ""
 },
 "nbformat": 3,
 "nbformat_minor": 0,
 "worksheets": [
  {
   "cells": [
    {
     "cell_type": "heading",
     "level": 1,
     "metadata": {},
     "source": [
      "Machine Learning Online Class - Exercise 1: Linear Regression"
     ]
    },
    {
     "cell_type": "markdown",
     "metadata": {},
     "source": [
      "Instructions\n",
      "------------\n",
      "\n",
      "This file contains code that helps you see how you can do the linear exercise in Python. You cannot use this file to submit your work for grading. Please use Octave or MATLAB for that purpose. \n",
      "\n",
      "* x refers to the population size in 10,000s\n",
      "* y refers to the profit in $10,000s"
     ]
    },
    {
     "cell_type": "code",
     "collapsed": false,
     "input": [
      "# initializtaion \n",
      "import os\n",
      "import IPython\n",
      "import numpy as np\n",
      "import scipy as sp\n",
      "import matplotlib\n",
      "import matplotlib.pyplot as plt\n",
      "# make IPython working with matplotlib\n",
      "%matplotlib inline  \n",
      "# import pyplot\n",
      "import matplotlib.pyplot as plt"
     ],
     "language": "python",
     "metadata": {},
     "outputs": [],
     "prompt_number": 86
    },
    {
     "cell_type": "markdown",
     "metadata": {},
     "source": [
      "Part 1: Basic Function\n",
      "----------------------\n",
      "Complete warmUpExercise"
     ]
    },
    {
     "cell_type": "code",
     "collapsed": false,
     "input": [
      "def warmUpExercise():\n",
      "    \"\"\" This is an example function that returns the 5x5 identify matrix\n",
      "    \"\"\"\n",
      "    # ============== your code here ======================\n",
      "    \n",
      "    return np.eye(5)\n",
      "    \n",
      "    # ====================================================\n",
      "print 'Running warmUpExercise'\n",
      "print '5x5 Identity Matrix:'\n",
      "warmUpExercise()"
     ],
     "language": "python",
     "metadata": {},
     "outputs": [
      {
       "output_type": "stream",
       "stream": "stdout",
       "text": [
        "Running warmUpExercise\n",
        "5x5 Identity Matrix:\n"
       ]
      },
      {
       "metadata": {},
       "output_type": "pyout",
       "prompt_number": 87,
       "text": [
        "array([[ 1.,  0.,  0.,  0.,  0.],\n",
        "       [ 0.,  1.,  0.,  0.,  0.],\n",
        "       [ 0.,  0.,  1.,  0.,  0.],\n",
        "       [ 0.,  0.,  0.,  1.,  0.],\n",
        "       [ 0.,  0.,  0.,  0.,  1.]])"
       ]
      }
     ],
     "prompt_number": 87
    },
    {
     "cell_type": "markdown",
     "metadata": {},
     "source": [
      "Part 2: Plotting\n",
      "----------------\n",
      "Check the current working directory before loading data"
     ]
    },
    {
     "cell_type": "code",
     "collapsed": false,
     "input": [
      "print os.getcwd()"
     ],
     "language": "python",
     "metadata": {},
     "outputs": [
      {
       "output_type": "stream",
       "stream": "stdout",
       "text": [
        "/Users/theofpa\n"
       ]
      }
     ],
     "prompt_number": 88
    },
    {
     "cell_type": "markdown",
     "metadata": {},
     "source": [
      "Loading data ..."
     ]
    },
    {
     "cell_type": "code",
     "collapsed": false,
     "input": [
      "data = np.loadtxt('ex1data1.txt',delimiter=',')\n",
      "X = data[:,0]\n",
      "y = data[:,1]\n",
      "m = len(y)  # number of training examples"
     ],
     "language": "python",
     "metadata": {},
     "outputs": [],
     "prompt_number": 89
    },
    {
     "cell_type": "markdown",
     "metadata": {},
     "source": [
      "Plotting data ..."
     ]
    },
    {
     "cell_type": "code",
     "collapsed": false,
     "input": [
      "def plotData(x, y):\n",
      "    \"\"\"Plots the data points x and y into a new figure\n",
      "    plotData(x, y) plots the data points and gives the figure axes labels of population and profit.\n",
      "    \n",
      "    Instructions: Plot the training data into a figure using the \"figure\" and \"plot\" methods. Set the axes labels using\n",
      "    the xlabel and ylabel methods. Assume the population and revenue data have been passed in as the x and y arguments\n",
      "    of the function\n",
      "    \"\"\"\n",
      "    # ============== your code here ======================\n",
      "    \n",
      "    plt.plot(x,y,'rx')\n",
      "    plt.xlabel('Profit in $10,000s')\n",
      "    plt.ylabel('Population of City in 10,000s')\n",
      "    \n",
      "    # ====================================================\n",
      "\n",
      "print 'Plotting Data ...'\n",
      "plotData(X, y)"
     ],
     "language": "python",
     "metadata": {},
     "outputs": [
      {
       "output_type": "stream",
       "stream": "stdout",
       "text": [
        "Plotting Data ...\n"
       ]
      },
      {
       "metadata": {},
       "output_type": "display_data",
       "png": "[encoded data removed]",
       "text": [
        "<matplotlib.figure.Figure at 0x1083a0e10>"
       ]
      }
     ],
     "prompt_number": 90
    },
    {
     "cell_type": "markdown",
     "metadata": {},
     "source": [
      "Part 3: Gradient descent\n",
      "------------------------\n",
      "\n",
      "Setting up variables"
     ]
    },
    {
     "cell_type": "code",
     "collapsed": false,
     "input": [
      "# Initialing the data ...\n",
      "X = np.column_stack((np.ones((m ,1)), data[:,0])) # Add a column of ones to X; X becomes a 2D array\n",
      "y = y.reshape(y.shape[0],1) # reshape y from 1D array into 2D array for compatibility\n",
      "theta = np.zeros((2, 1)) # initialize fitting parameters\n",
      "\n",
      "# Some gradient descent settings\n",
      "iterations = 1500L\n",
      "alpha = 0.01"
     ],
     "language": "python",
     "metadata": {},
     "outputs": [],
     "prompt_number": 91
    },
    {
     "cell_type": "markdown",
     "metadata": {},
     "source": [
      "Calculate cost: $$J = \\frac{1}{2m}\\sum\\limits_{i=1}^m ((X*\\theta)-y)^2$$"
     ]
    },
    {
     "cell_type": "code",
     "collapsed": false,
     "input": [
      "def computeCost(X, y, theta):\n",
      "    \"\"\" Compute cost for linear regression\n",
      "    computeCost(X, y, theta) computes the cost of using theta as the parameter for linear regression \n",
      "    to fit the data points in X and y\n",
      "    \"\"\"\n",
      "    # Initialize some useful values\n",
      "    m = len(y) # number of training examples\n",
      "    # You need to return the following variables correctly\n",
      "    J = 0.0\n",
      "    \n",
      "    # ============== your code here ======================\n",
      "    # Instructions: Compute the cost of a particular choice of theta. You should set J to the cost. \n",
      "    \n",
      "    # Matlab: J = (1/(2*m))*sum(((X*theta)-y).^2)\n",
      "    J = (1.0/(2*m))*np.sum((np.dot(X,theta)-y)**2)\n",
      "    \n",
      "    # ====================================================\n",
      "    return J\n",
      "\n",
      "# Compute and display intial cost\n",
      "print computeCost(X, y, theta)"
     ],
     "language": "python",
     "metadata": {},
     "outputs": [
      {
       "output_type": "stream",
       "stream": "stdout",
       "text": [
        "32.0727338775\n"
       ]
      }
     ],
     "prompt_number": 99
    },
    {
     "cell_type": "markdown",
     "metadata": {},
     "source": [
      "Run gradient descent"
     ]
    },
    {
     "cell_type": "code",
     "collapsed": false,
     "input": [
      "def gradientDescent(X, y, theta, alpha, num_iters):\n",
      "    \"\"\"Performs gradient descent to learn theta\n",
      "    theta = gradientDescent(X, y, theta, alpha, num_iters) updates theta by taking num_iters gradient steps\n",
      "    with learning rate alpha\n",
      "    \"\"\"\n",
      "    # Initialize some useful values\n",
      "    m = len(y) # number of training examples\n",
      "    J_history = np.zeros((num_iters, 1))\n",
      "    \n",
      "    for iter in np.arange(num_iters):\n",
      "        # ============== your code here ======================\n",
      "        # Instructions: Perform a single gradient step on the parameter vector theta. \n",
      "        \n",
      "        \n",
      "        \n",
      "        # ====================================================\n",
      "        # Save the cost J in every iteration\n",
      "        J_history[iter] = computeCost(X, y, theta);\n",
      "    return (theta, J_history)\n",
      "\n",
      "# run gradient descent\n",
      "print 'Running Gradient Descent ...'\n",
      "(theta, J_history) = gradientDescent(X, y, theta, alpha, iterations)\n",
      "print 'Theta found by gradient descent:'\n",
      "print '%f %f' % (theta[0, 0], theta[1, 0])"
     ],
     "language": "python",
     "metadata": {},
     "outputs": [
      {
       "output_type": "stream",
       "stream": "stdout",
       "text": [
        "Running Gradient Descent ...\n",
        "Theta found by gradient descent:\n",
        "0.000000 0.000000\n"
       ]
      }
     ],
     "prompt_number": 9
    },
    {
     "cell_type": "markdown",
     "metadata": {},
     "source": [
      "Plot the linear fit"
     ]
    },
    {
     "cell_type": "code",
     "collapsed": false,
     "input": [
      "plotData(X[:,1], y) # redo the plot\n",
      "plt.hold(True) # keep previous plot visible\n",
      "plt.plot(X[:,1],np.dot(X,theta),'-')\n",
      "plt.legend(('Training data','Linear regression'),'lower right')\n",
      "plt.hold(False) # don't overlay any more plots on this figure"
     ],
     "language": "python",
     "metadata": {},
     "outputs": [
      {
       "metadata": {},
       "output_type": "display_data",
       "png": "[encoded data removed]",
       "text": [
        "<matplotlib.figure.Figure at 0x107f75a90>"
       ]
      }
     ],
     "prompt_number": 10
    },
    {
     "cell_type": "markdown",
     "metadata": {},
     "source": [
      "Predicting values for population sizes of 35,000 and 70,000"
     ]
    },
    {
     "cell_type": "code",
     "collapsed": false,
     "input": [
      "predict1 = np.dot(np.array([1.0, 3.5]), theta)\n",
      "print 'For population = 35,000, we predict a profit of %f' % (predict1*10000)\n",
      "predict2 = np.dot(np.array([1.0, 7.0]), theta)\n",
      "print 'For population = 70,000, we predict a profit of %f' % (predict2*10000)"
     ],
     "language": "python",
     "metadata": {},
     "outputs": [
      {
       "output_type": "stream",
       "stream": "stdout",
       "text": [
        "For population = 35,000, we predict a profit of 4519.767868\n",
        "For population = 70,000, we predict a profit of 45342.450129\n"
       ]
      }
     ],
     "prompt_number": 42
    },
    {
     "cell_type": "code",
     "collapsed": false,
     "input": [],
     "language": "python",
     "metadata": {},
     "outputs": []
    }
   ],
   "metadata": {}
  }
 ]
}